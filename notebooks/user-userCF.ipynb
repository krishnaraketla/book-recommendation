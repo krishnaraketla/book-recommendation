{
 "cells": [
  {
   "cell_type": "code",
   "execution_count": 1,
   "metadata": {},
   "outputs": [
    {
     "name": "stdout",
     "output_type": "stream",
     "text": [
      "Books you have rated:\n",
      "ISBN: 0061148512, Title: The Bell Jar, Rating: 5\n",
      "ISBN: 0451529308, Title: Little Women, Rating: 3\n",
      "ISBN: 8174865381, Title: Cobalt Blue: The Novel, Rating: 4\n",
      "ISBN: 0340571195, Title: The Sins of the Father, Rating: 4\n",
      "ISBN: 0374299218, Title: Call Me by Your Name, Rating: 3\n",
      "ISBN: 0061150142, Title: The Pact, Rating: 2\n",
      "ISBN: 0375751513, Title: The Picture of Dorian Gray, Rating: 1\n",
      "ISBN: 0452283868, Title: Sula, Rating: 3\n",
      "ISBN: 1888996935, Title: Never Let Me Go, Rating: 5\n",
      "\n",
      "Books we recommend:\n",
      "[{'isbn': '0440227534', 'title': 'Number the Stars', 'predicted_rating': 3.39}, {'isbn': '0374480095', 'title': 'Tuck Everlasting', 'predicted_rating': 3.39}, {'isbn': '0446552445', 'title': 'Chelsea Chelsea Bang Bang', 'predicted_rating': 3.39}, {'isbn': '1439550417', 'title': None, 'predicted_rating': 3.39}, {'isbn': '068487217X', 'title': None, 'predicted_rating': 3.39}, {'isbn': '0881032476', 'title': None, 'predicted_rating': 3.39}, {'isbn': '0062253042', 'title': nan, 'predicted_rating': 3.32}, {'isbn': '014044906X', 'title': 'Le tour du monde en quatre-vingts jours', 'predicted_rating': 3.32}, {'isbn': '0061727660', 'title': 'The Mapping of Love and Death', 'predicted_rating': 3.32}, {'isbn': '0679602534', 'title': None, 'predicted_rating': 3.32}, {'isbn': '', 'title': 'The Rithmatist', 'predicted_rating': 3.32}, {'isbn': '0062220551', 'title': 'The White Lady', 'predicted_rating': 3.32}, {'isbn': '0375504613', 'title': 'A Short Guide to a Happy Life', 'predicted_rating': 3.32}, {'isbn': '032147404X', 'title': 'The Digital Photography Book', 'predicted_rating': 3.32}, {'isbn': '157061136X', 'title': 'Golden Gate Gardening: The Complete Guide to Year-Round Food Gardening in the San Francisco Bay Area & Coastal California', 'predicted_rating': 3.32}, {'isbn': '0743292545', 'title': 'You: On a Diet', 'predicted_rating': 3.32}, {'isbn': '0060765313', 'title': \"YOU: The Owner's Manual: An Insider's Guide to the Body That Will Make You Healthier and Younger\", 'predicted_rating': 3.32}, {'isbn': '0393309290', 'title': 'Mrs. Stevens Hears the Mermaids Singing', 'predicted_rating': 3.24}, {'isbn': '0393313891', 'title': 'Anger', 'predicted_rating': 3.24}, {'isbn': '0393085996', 'title': 'A Shower of Summer Days.', 'predicted_rating': 3.24}]\n"
     ]
    }
   ],
   "source": [
    "# Importing the necessary modules\n",
    "import pandas as pd\n",
    "import sys\n",
    "import os\n",
    "\n",
    "sys.path.append(os.path.abspath('../models'))\n",
    "\n",
    "# Now we can import the UserUserCF class\n",
    "from user_user_cf import UserUserCF\n",
    "\n",
    "# Create an instance of the UserUserCF class\n",
    "recommender = UserUserCF(\"../data/interactions.csv\", \"../data/book_id_map.csv\", \"../data/book_works.csv\")\n",
    "\n",
    "# New user ratings\n",
    "new_user_ratings = pd.DataFrame({\n",
    "        'user_id': [9999999999] * 9,\n",
    "        'book_id': [7300, 1201, 100385, 530615, 48625, 14870, 7170, 19782, 1146577],\n",
    "        'rating': [5, 3, 4, 4, 3, 2, 1, 3, 5]\n",
    "    })\n",
    "    \n",
    "print(\"Books you have rated:\")\n",
    "for idx, row in new_user_ratings.iterrows():\n",
    "    best_book_id = recommender.get_best_book_id(row['book_id'])\n",
    "    title = recommender.get_original_title_by_book_id(best_book_id)\n",
    "    work_id = recommender.get_work_id(best_book_id)\n",
    "    isbn = recommender.find_isbn_by_work_and_book_id(str(work_id), str(best_book_id))\n",
    "    # print(f\"Book ID: {best_book_id}, Work ID: {work_id}, Title: {title}, Rating: {row['rating']}\")\n",
    "    print(f\"ISBN: {isbn}, Title: {title}, Rating: {row['rating']}\")\n",
    "        \n",
    "# Get recommendations for the new user\n",
    "recommendations = recommender.recommend_books(new_user_ratings, n=20)\n",
    "print(recommendations)"
   ]
  }
 ],
 "metadata": {
  "kernelspec": {
   "display_name": "mlp",
   "language": "python",
   "name": "python3"
  },
  "language_info": {
   "codemirror_mode": {
    "name": "ipython",
    "version": 3
   },
   "file_extension": ".py",
   "mimetype": "text/x-python",
   "name": "python",
   "nbconvert_exporter": "python",
   "pygments_lexer": "ipython3",
   "version": "3.8.13"
  }
 },
 "nbformat": 4,
 "nbformat_minor": 2
}
