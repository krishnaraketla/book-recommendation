{
 "cells": [
  {
   "cell_type": "code",
   "execution_count": 1,
   "metadata": {},
   "outputs": [
    {
     "name": "stdout",
     "output_type": "stream",
     "text": [
      "Books you have rated:\n",
      "ISBN: 0061148512, Title: The Bell Jar, Rating: 5\n",
      "ISBN: 0451529308, Title: Little Women, Rating: 3\n",
      "ISBN: 8174865381, Title: Cobalt Blue: The Novel, Rating: 4\n",
      "ISBN: 0340571195, Title: The Sins of the Father, Rating: 4\n",
      "ISBN: 0374299218, Title: Call Me by Your Name, Rating: 3\n",
      "ISBN: 0061150142, Title: The Pact, Rating: 2\n",
      "ISBN: 0375751513, Title: The Picture of Dorian Gray, Rating: 1\n",
      "ISBN: 0452283868, Title: Sula, Rating: 3\n",
      "ISBN: 1888996935, Title: Never Let Me Go, Rating: 5\n",
      "\n",
      "Books we recommend:\n",
      "ISBN: 0440227534, Title: Number the Stars, Predicted Rating: 3.39\n",
      "ISBN: 0374480095, Title: Tuck Everlasting, Predicted Rating: 3.39\n",
      "ISBN: 0446552445, Title: Chelsea Chelsea Bang Bang, Predicted Rating: 3.39\n",
      "ISBN: 1439550417, Title: None, Predicted Rating: 3.39\n",
      "ISBN: 068487217X, Title: None, Predicted Rating: 3.39\n",
      "ISBN: 0881032476, Title: None, Predicted Rating: 3.39\n",
      "ISBN: 0062253042, Title: nan, Predicted Rating: 3.32\n",
      "ISBN: 014044906X, Title: Le tour du monde en quatre-vingts jours, Predicted Rating: 3.32\n",
      "ISBN: 0061727660, Title: The Mapping of Love and Death, Predicted Rating: 3.32\n",
      "ISBN: 0679602534, Title: None, Predicted Rating: 3.32\n",
      "ISBN: , Title: The Rithmatist, Predicted Rating: 3.32\n",
      "ISBN: 0062220551, Title: The White Lady, Predicted Rating: 3.32\n",
      "ISBN: 0375504613, Title: A Short Guide to a Happy Life, Predicted Rating: 3.32\n",
      "ISBN: 032147404X, Title: The Digital Photography Book, Predicted Rating: 3.32\n",
      "ISBN: 157061136X, Title: Golden Gate Gardening: The Complete Guide to Year-Round Food Gardening in the San Francisco Bay Area & Coastal California, Predicted Rating: 3.32\n",
      "ISBN: 0743292545, Title: You: On a Diet, Predicted Rating: 3.32\n",
      "ISBN: 0060765313, Title: YOU: The Owner's Manual: An Insider's Guide to the Body That Will Make You Healthier and Younger, Predicted Rating: 3.32\n",
      "ISBN: 0393309290, Title: Mrs. Stevens Hears the Mermaids Singing, Predicted Rating: 3.24\n",
      "ISBN: 0393313891, Title: Anger, Predicted Rating: 3.24\n",
      "ISBN: 0393085996, Title: A Shower of Summer Days., Predicted Rating: 3.24\n"
     ]
    }
   ],
   "source": [
    "# Importing the necessary modules\n",
    "import pandas as pd\n",
    "import sys\n",
    "import os\n",
    "\n",
    "sys.path.append(os.path.abspath('../models'))\n",
    "\n",
    "# Now we can import the UserUserCF class\n",
    "from user_user_cf import UserUserCF\n",
    "\n",
    "# Create an instance of the UserUserCF class\n",
    "recommender = UserUserCF(\"../data/interactions.csv\", \"../data/book_id_map.csv\", \"../data/book_works.csv\")\n",
    "\n",
    "# New user ratings\n",
    "new_user_ratings = pd.DataFrame({\n",
    "        'user_id': [9999999999] * 9,\n",
    "        'book_id': [7300, 1201, 100385, 530615, 48625, 14870, 7170, 19782, 1146577],\n",
    "        'rating': [5, 3, 4, 4, 3, 2, 1, 3, 5]\n",
    "    })\n",
    "    \n",
    "print(\"Books you have rated:\")\n",
    "for idx, row in new_user_ratings.iterrows():\n",
    "    best_book_id = recommender.get_best_book_id(row['book_id'])\n",
    "    title = recommender.get_original_title_by_book_id(best_book_id)\n",
    "    work_id = recommender.get_work_id(best_book_id)\n",
    "    isbn = recommender.find_isbn_by_work_and_book_id(str(work_id), str(best_book_id))\n",
    "    # print(f\"Book ID: {best_book_id}, Work ID: {work_id}, Title: {title}, Rating: {row['rating']}\")\n",
    "    print(f\"ISBN: {isbn}, Title: {title}, Rating: {row['rating']}\")\n",
    "        \n",
    "# Get recommendations for the new user\n",
    "recommender.recommend_books(new_user_ratings, n=20)"
   ]
  }
 ],
 "metadata": {
  "kernelspec": {
   "display_name": "mlp",
   "language": "python",
   "name": "python3"
  },
  "language_info": {
   "codemirror_mode": {
    "name": "ipython",
    "version": 3
   },
   "file_extension": ".py",
   "mimetype": "text/x-python",
   "name": "python",
   "nbconvert_exporter": "python",
   "pygments_lexer": "ipython3",
   "version": "3.8.13"
  }
 },
 "nbformat": 4,
 "nbformat_minor": 2
}
