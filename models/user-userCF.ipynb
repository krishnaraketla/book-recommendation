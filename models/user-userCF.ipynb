{
 "cells": [
  {
   "cell_type": "code",
   "execution_count": 1,
   "metadata": {},
   "outputs": [
    {
     "name": "stdout",
     "output_type": "stream",
     "text": [
      "Books you have rated:\n",
      "Book ID: 7300, Title: The Bell Jar, Rating: 5\n",
      "Book ID: 1201, Title: Little Women, Rating: 5\n",
      "Book ID: 100385, Title: Cobalt Blue: The Novel, Rating: 4\n",
      "Book ID: 530615, Title: The Sins of the Father, Rating: 5\n",
      "Book ID: 48625, Title: Call Me by Your Name, Rating: 3\n",
      "Book ID: 14870, Title: The Pact, Rating: 2\n",
      "Book ID: 7170, Title: The Picture of Dorian Gray, Rating: 1\n",
      "Book ID: 19782, Title: Sula, Rating: 3\n",
      "Book ID: 1146577, Title: Never Let Me Go, Rating: 4\n",
      "\n",
      "Books we recommend:\n",
      "Book ID: 12808, Title: Le tour du monde en quatre-vingts jours, Predicted Rating: 3.81\n",
      "Book ID: 12878, Title: The Rithmatist, Predicted Rating: 3.81\n",
      "Book ID: 12831, Title: The Mapping of Love and Death, Predicted Rating: 3.81\n",
      "Book ID: 12984, Title: A Short Guide to a Happy Life, Predicted Rating: 3.81\n",
      "Book ID: 12987, Title: The Digital Photography Book, Predicted Rating: 3.81\n",
      "Book ID: 12824, Title: The White Lady, Predicted Rating: 3.81\n",
      "Book ID: 12992, Title: Golden Gate Gardening: The Complete Guide to Year-Round Food Gardening in the San Francisco Bay Area & Coastal California, Predicted Rating: 3.81\n",
      "Book ID: 13004, Title: YOU: The Owner's Manual: An Insider's Guide to the Body That Will Make You Healthier and Younger, Predicted Rating: 3.81\n",
      "Book ID: 13003, Title: You: On a Diet, Predicted Rating: 3.81\n",
      "Book ID: 12813, Title: None, Predicted Rating: 3.81\n",
      "Book ID: 12852, Title: nan, Predicted Rating: 3.81\n",
      "Book ID: 15466, Title: Mountains Beyond Mountains: The Quest of Dr. Paul Farmer, a Man Who Would Cure the World, Predicted Rating: 3.75\n",
      "Book ID: 15441, Title: 109 East Palace: Robert Oppenheimer and the Secret City of Los Alamos, Predicted Rating: 3.75\n",
      "Book ID: 7241, Title: Number the Stars, Predicted Rating: 3.70\n",
      "Book ID: 7247, Title: None, Predicted Rating: 3.70\n",
      "Book ID: 7244, Title: None, Predicted Rating: 3.70\n",
      "Book ID: 7243, Title: None, Predicted Rating: 3.70\n",
      "Book ID: 7240, Title: Tuck Everlasting, Predicted Rating: 3.70\n",
      "Book ID: 7231, Title: Chelsea Chelsea Bang Bang, Predicted Rating: 3.70\n",
      "Book ID: 12903, Title: nan, Predicted Rating: 3.61\n"
     ]
    }
   ],
   "source": [
    "# Importing the necessary modules\n",
    "import pandas as pd\n",
    "import sys\n",
    "import os\n",
    "\n",
    "# Add the directory containing your module to the Python path (wants absolute paths)\n",
    "sys.path.insert(0, os.path.abspath('.'))\n",
    "\n",
    "# Now we can import the UserUserCF class\n",
    "from user_user_cf import UserUserCF\n",
    "\n",
    "# Create an instance of the UserUserCF class\n",
    "recommender = UserUserCF(\"../data/interactions.csv\", \"../data/book_id_map.csv\", \"../data/book_works.csv\")\n",
    "\n",
    "# New user ratings\n",
    "new_user_ratings = pd.DataFrame({\n",
    "    'user_id': [9999999999] * 9,\n",
    "    'book_id': [7300, 1201, 100385, 530615, 48625, 14870, 7170, 19782, 1146577],\n",
    "    'rating': [5, 5, 4, 5, 3, 2, 1, 3, 4]\n",
    "})\n",
    "\n",
    "# Get recommendations for the new user\n",
    "recommender.recommend_books(new_user_ratings, n=20)"
   ]
  }
 ],
 "metadata": {
  "kernelspec": {
   "display_name": "mlp",
   "language": "python",
   "name": "python3"
  },
  "language_info": {
   "codemirror_mode": {
    "name": "ipython",
    "version": 3
   },
   "file_extension": ".py",
   "mimetype": "text/x-python",
   "name": "python",
   "nbconvert_exporter": "python",
   "pygments_lexer": "ipython3",
   "version": "3.8.13"
  }
 },
 "nbformat": 4,
 "nbformat_minor": 2
}
